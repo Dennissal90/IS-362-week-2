{
 "cells": [
  {
   "cell_type": "markdown",
   "id": "2c62e9a6",
   "metadata": {},
   "source": [
    "# #Dictionaries are a collection of key-value pairs. Each key is unique, and it maps to a specific value."
   ]
  },
  {
   "cell_type": "code",
   "execution_count": 9,
   "id": "00afd859",
   "metadata": {},
   "outputs": [
    {
     "name": "stdout",
     "output_type": "stream",
     "text": [
      "Meadow\n",
      "{'name': 'Meadow', 'age': 4, 'city': 'McAllen'}\n"
     ]
    }
   ],
   "source": [
    "person = {\n",
    "    'name': 'Meadow',\n",
    "    'age': 3,\n",
    "    'job': 'Baby in the world' #my youngest daughters job!\n",
    "}\n",
    "\n",
    "\n",
    "# Accessing a value by key\n",
    "print(person['name'])\n",
    "\n",
    "# Adding a new key value pair\n",
    "person['city'] = 'McAllen'\n",
    "\n",
    "# Updating an existing value\n",
    "person['age'] = 4\n",
    "\n",
    "# Deleting a key value pair\n",
    "del person['job']\n",
    "\n",
    "\n",
    "print(person) "
   ]
  },
  {
   "cell_type": "markdown",
   "id": "106aad69",
   "metadata": {},
   "source": [
    "In this example, I created a dictionary called `person` with information about my daughter. I can access values by referring to their keys, such as `person['name']`. I can also add, update, and delete key-value pairs easily."
   ]
  },
  {
   "cell_type": "code",
   "execution_count": 10,
   "id": "e750f20d",
   "metadata": {},
   "outputs": [
    {
     "name": "stdout",
     "output_type": "stream",
     "text": [
      "name\n",
      "age\n",
      "city\n",
      "name: Meadow\n",
      "age: 4\n",
      "city: McAllen\n"
     ]
    }
   ],
   "source": [
    "for key in person:\n",
    "    print(key)\n",
    "\n",
    "for key, value in person.items():\n",
    "    print(f\"{key}: {value}\")"
   ]
  },
  {
   "cell_type": "markdown",
   "id": "b1bb1d19",
   "metadata": {},
   "source": [
    "Using a loop, I can easily iterate over the keys in a dictionary or use the `items()` method to loop through both keys and values."
   ]
  },
  {
   "cell_type": "code",
   "execution_count": 11,
   "id": "b92ab290",
   "metadata": {},
   "outputs": [
    {
     "name": "stdout",
     "output_type": "stream",
     "text": [
      "Meadow\n",
      "Not Available\n",
      "dict_keys(['name', 'age', 'city'])\n",
      "dict_values(['Meadow', 4, 'McAllen'])\n",
      "{'name': 'Meadow', 'city': 'McAllen', 'hobby': 'painting'}\n"
     ]
    }
   ],
   "source": [
    "print(person.get('name'))\n",
    "print(person.get('salary', 'Not Available'))\n",
    "\n",
    "print(person.keys())\n",
    "print(person.values())\n",
    "\n",
    "person.pop('age')\n",
    "\n",
    "more_info = {'hobby': 'painting'}\n",
    "person.update(more_info)\n",
    "print(person)"
   ]
  },
  {
   "cell_type": "markdown",
   "id": "31dcdb8c",
   "metadata": {},
   "source": [
    "Dictionaries come with several built-in methods that make working with them easier. Like this `.get()` it helps avoid errors when a key is not found, and `.pop()` allows us to remove items safely. The `.update()` method merges two dictionaries."
   ]
  },
  {
   "cell_type": "code",
   "execution_count": 15,
   "id": "feceff04",
   "metadata": {},
   "outputs": [
    {
     "name": "stdout",
     "output_type": "stream",
     "text": [
      "BABY!\n"
     ]
    }
   ],
   "source": [
    "students = {\n",
    "    'Ariel': {'age': 10, 'grade': '96'},\n",
    "    'Summer': {'age': 8, 'grade': '92'},\n",
    "    'Dennis Jr': {'age': 7, 'grade': '98'},\n",
    "    'Meadow': {'age': 3, 'grade': 'BABY!'}\n",
    "}\n",
    "\n",
    "print(students['Meadow']['grade'])"
   ]
  },
  {
   "cell_type": "markdown",
   "id": "25ba32cf",
   "metadata": {},
   "source": [
    "So this is a Nested Dictionary. Nested Dictionaries can contain another dictionary as a value. This structure is useful for representing more complex data, such as my kids as students with multiple attributes like age and grade. And Meadow being the baby of the bunch the output should fbollow suit by stating \"BABY!\"\n",
    "\n",
    "Dictionaries are a versatile and efficient data structure in Python. They are perfect for storing data in key-value pairs."
   ]
  },
  {
   "cell_type": "markdown",
   "id": "9ec3355e",
   "metadata": {},
   "source": [
    "# Now time to take a gander at 'zip()' functions\n",
    "\n",
    "The `zip()` function in Python is used to combine two or more iterables (such as lists or tuples) element-wise into tuples. This is mostly useful when you want to pair data from different lists."
   ]
  },
  {
   "cell_type": "code",
   "execution_count": 17,
   "id": "9c2df82b",
   "metadata": {},
   "outputs": [
    {
     "data": {
      "text/plain": [
       "[('Ariel', 96), ('Summer', 92), ('Dennis Jr', 98), ('Meadow', 'BABY!')]"
      ]
     },
     "execution_count": 17,
     "metadata": {},
     "output_type": "execute_result"
    }
   ],
   "source": [
    "# Simple example of using zip to combine two lists\n",
    "names = ['Ariel', 'Summer', 'Dennis Jr', 'Meadow']\n",
    "scores = [96, 92, 98, 'BABY!']\n",
    "\n",
    "combined = list(zip(names, scores))\n",
    "combined"
   ]
  },
  {
   "cell_type": "markdown",
   "id": "4245dcdb",
   "metadata": {},
   "source": [
    "In this example, I use `zip()` to combine the `names` of my child with the `scores` list. And Meadow is still a baby! \n",
    "\n",
    "The result is a list of tuples, where each tuple contains one element from each list."
   ]
  },
  {
   "cell_type": "code",
   "execution_count": 18,
   "id": "37506b5c",
   "metadata": {},
   "outputs": [
    {
     "data": {
      "text/plain": [
       "[('Ariel', 96, 10),\n",
       " ('Summer', 92, 8),\n",
       " ('Dennis Jr', 98, 7),\n",
       " ('Meadow', 'BABY!', 3)]"
      ]
     },
     "execution_count": 18,
     "metadata": {},
     "output_type": "execute_result"
    }
   ],
   "source": [
    "ages = [10, 8, 7, 3]\n",
    "combined_with_ages = list(zip(names, scores, ages))\n",
    "combined_with_ages"
   ]
  },
  {
   "cell_type": "markdown",
   "id": "3497693b",
   "metadata": {},
   "source": [
    "The `zip()` function is good for pairing data from multiple iterables. It simplifies working with related data and is especially helpful when processing lists or tuples.\n"
   ]
  }
 ],
 "metadata": {
  "kernelspec": {
   "display_name": "Python 3 (ipykernel)",
   "language": "python",
   "name": "python3"
  },
  "language_info": {
   "codemirror_mode": {
    "name": "ipython",
    "version": 3
   },
   "file_extension": ".py",
   "mimetype": "text/x-python",
   "name": "python",
   "nbconvert_exporter": "python",
   "pygments_lexer": "ipython3",
   "version": "3.11.5"
  }
 },
 "nbformat": 4,
 "nbformat_minor": 5
}
